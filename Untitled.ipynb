{
 "cells": [
  {
   "cell_type": "code",
   "execution_count": 40,
   "metadata": {
    "collapsed": true
   },
   "outputs": [],
   "source": [
    "import collections \n",
    "import heapq \n",
    "def find(sequence, k):\n",
    "\n",
    "    frequencies = collections.Counter(sequence)\n",
    "        \n",
    "    heap = []\n",
    "    for value, frequency in frequencies.items():\n",
    "            \n",
    "        if len(heap) < k:\n",
    "            heapq.heappush(heap, (frequency, value))\n",
    "        else:\n",
    "            if heap[0][0] < frequency:\n",
    "                heapq.heappop(heap)\n",
    "                heapq.heappush(heap, (frequency, value))\n",
    "    return [frequency[1] for frequency in heap]"
   ]
  },
  {
   "cell_type": "code",
   "execution_count": 41,
   "metadata": {
    "collapsed": false
   },
   "outputs": [
    {
     "name": "stdout",
     "output_type": "stream",
     "text": [
      "[2, 1]\n"
     ]
    }
   ],
   "source": [
    "print(find([1,1,1,2,2,3,10,110], 2))"
   ]
  }
 ],
 "metadata": {
  "kernelspec": {
   "display_name": "Python 3",
   "language": "python",
   "name": "python3"
  },
  "language_info": {
   "codemirror_mode": {
    "name": "ipython",
    "version": 3
   },
   "file_extension": ".py",
   "mimetype": "text/x-python",
   "name": "python",
   "nbconvert_exporter": "python",
   "pygments_lexer": "ipython3",
   "version": "3.5.1"
  }
 },
 "nbformat": 4,
 "nbformat_minor": 0
}
